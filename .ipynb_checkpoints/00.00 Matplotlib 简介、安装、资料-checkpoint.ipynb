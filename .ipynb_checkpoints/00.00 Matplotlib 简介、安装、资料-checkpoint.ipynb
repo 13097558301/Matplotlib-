{
 "cells": [
  {
   "cell_type": "markdown",
   "metadata": {},
   "source": [
    "# Matplotlib 介绍以及写作目的"
   ]
  },
  {
   "cell_type": "markdown",
   "metadata": {},
   "source": [
    "Matplotlib 是 Python 进行数据可视化的工具之一，与之相似的工具有 MATLAB。因为我没有学习过MATLAB，在此就不作比较了。"
   ]
  },
  {
   "cell_type": "markdown",
   "metadata": {},
   "source": [
    "当然，我写这篇文章的初衷主要是为了“防蠢”，对于不常用的东西确实容易忘记，为了减少以后的学习成本。本系列的主旨是总结 Matplotlib 中的常用功能，精简出一套适合于本人的模板，方便以后的学习查询。当然，如果这篇文章对于你是很有帮助的话，我也是很高兴的。"
   ]
  },
  {
   "cell_type": "markdown",
   "metadata": {},
   "source": [
    "这篇文章，仅仅是一个偏向总结性的学习笔记，对于其中有些不常用的函数特性我并没有进行特别详细的讲解，如果觉得需要改正或补充可以直接提出修改意见。"
   ]
  },
  {
   "cell_type": "markdown",
   "metadata": {},
   "source": [
    "## 安装"
   ]
  },
  {
   "cell_type": "markdown",
   "metadata": {},
   "source": [
    "Matplotlib 第三方包下载网址：https://pypi.org/project/matplotlib/#files"
   ]
  },
  {
   "attachments": {},
   "cell_type": "markdown",
   "metadata": {},
   "source": [
    "![0.png](image/0.png)"
   ]
  },
  {
   "cell_type": "markdown",
   "metadata": {},
   "source": [
    "pip install 网址链接"
   ]
  },
  {
   "cell_type": "markdown",
   "metadata": {},
   "source": [
    "PS：可能会存在一些其他的依赖包(numpy等)"
   ]
  },
  {
   "cell_type": "markdown",
   "metadata": {},
   "source": [
    "## 其他的一些辅助性资料"
   ]
  },
  {
   "cell_type": "markdown",
   "metadata": {},
   "source": [
    "* Matplotlib 中文文档：https://www.matplotlib.org.cn/\n",
    "* Matplotlib 教学视频：https://morvanzhou.github.io/tutorials/data-manipulation/plt/\n"
   ]
  },
  {
   "cell_type": "markdown",
   "metadata": {},
   "source": [
    "## 感谢：https://liam.page/2014/09/11/matplotlib-tutorial-zh-cn/\n",
    "这篇笔记将主要参考这位博主的这篇博客的讲解顺序及部分内容，毕竟人家写的实在太好了,当然，也参考了一些其他博主的文档，因为实在太多，在这里也一并进行感谢。"
   ]
  },
  {
   "cell_type": "markdown",
   "metadata": {},
   "source": [
    "## 本系列文章采用 [CC-BY-NC-SA](https://creativecommons.org/licenses/by-nc-sa/4.0/deed.zh) 许可协议。转载请注明出处！"
   ]
  },
  {
   "cell_type": "code",
   "execution_count": null,
   "metadata": {},
   "outputs": [],
   "source": []
  }
 ],
 "metadata": {
  "kernelspec": {
   "display_name": "Python 3",
   "language": "python",
   "name": "python3"
  },
  "language_info": {
   "codemirror_mode": {
    "name": "ipython",
    "version": 3
   },
   "file_extension": ".py",
   "mimetype": "text/x-python",
   "name": "python",
   "nbconvert_exporter": "python",
   "pygments_lexer": "ipython3",
   "version": "3.7.3"
  }
 },
 "nbformat": 4,
 "nbformat_minor": 2
}
