{
 "cells": [
  {
   "cell_type": "markdown",
   "metadata": {},
   "source": [
    "## 绘制直方图（hist）：直方图是用面积表示各组频数的多少"
   ]
  },
  {
   "cell_type": "markdown",
   "metadata": {},
   "source": [
    "首先要理清楚一个概念，直方图 与 条形图 的区别："
   ]
  },
  {
   "cell_type": "markdown",
   "metadata": {},
   "source": [
    "* 条形图是用条形的长度表示各类别频数的多少，其宽度（表示类别）则是固定的；\n",
    "* 直方图是用面积表示各组频数的多少，矩形的高度表示每一组的频数或频率，宽度则表示各组的组距，因此其高度与宽度均有意义；\n",
    "* 由于分组数据具有连续性，直方图的各矩形通常是连续排列，而条形图则是分开排列；\n",
    "* 条形图主要用于展示分类数据，而直方图则主要用于展示数据型数据。\n"
   ]
  },
  {
   "cell_type": "code",
   "execution_count": 1,
   "metadata": {},
   "outputs": [],
   "source": [
    "import numpy\n",
    "import matplotlib.pyplot as plt "
   ]
  },
  {
   "cell_type": "markdown",
   "metadata": {},
   "source": [
    "均匀分布的数据准备"
   ]
  },
  {
   "cell_type": "code",
   "execution_count": 12,
   "metadata": {},
   "outputs": [
    {
     "name": "stdout",
     "output_type": "stream",
     "text": [
      "[0.33494609 0.50896741 0.4572999  ... 0.46676653 0.57850513 0.72464045]\n"
     ]
    }
   ],
   "source": [
    "u = numpy.random.uniform(0.0, 1.0, 10000)\n",
    "print(u)"
   ]
  },
  {
   "cell_type": "markdown",
   "metadata": {},
   "source": [
    "绘图"
   ]
  },
  {
   "cell_type": "code",
   "execution_count": 10,
   "metadata": {},
   "outputs": [
    {
     "data": {
      "image/png": "[encoded data removed]",
      "text/plain": [
       "<Figure size 432x288 with 1 Axes>"
      ]
     },
     "metadata": {
      "needs_background": "light"
     },
     "output_type": "display_data"
    }
   ],
   "source": [
    "plt.hist(u, 100, facecolor='g', alpha=0.75)\n",
    "plt.grid(True)\n",
    "plt.show()"
   ]
  },
  {
   "cell_type": "markdown",
   "metadata": {},
   "source": [
    "高斯分布的数据准备"
   ]
  },
  {
   "cell_type": "code",
   "execution_count": 11,
   "metadata": {},
   "outputs": [],
   "source": [
    "# 均匀分布通过不断的叠加可以得到高斯分布\n",
    "u = numpy.random.uniform(0.0, 1.0, 10000)\n",
    "\n",
    "times = 10000\n",
    "for time in range(times):\n",
    "    u += numpy.random.uniform(0.0, 1.0, 10000)"
   ]
  },
  {
   "cell_type": "markdown",
   "metadata": {},
   "source": [
    "绘图"
   ]
  },
  {
   "cell_type": "code",
   "execution_count": 9,
   "metadata": {},
   "outputs": [
    {
     "data": {
      "image/png": "[encoded data removed]",
      "text/plain": [
       "<Figure size 432x288 with 1 Axes>"
      ]
     },
     "metadata": {
      "needs_background": "light"
     },
     "output_type": "display_data"
    }
   ],
   "source": [
    "plt.hist(u, 100, facecolor='g', alpha=0.75)\n",
    "plt.grid(True)\n",
    "plt.show()"
   ]
  },
  {
   "cell_type": "markdown",
   "metadata": {},
   "source": [
    "## 有关直方图的相关参数："
   ]
  },
  {
   "cell_type": "markdown",
   "metadata": {},
   "source": [
    "matplotlib 包中 hist() 函数的参数含义及使用方法：\n",
    "\n",
    "plt.hist(x,\n",
    "      bins= 10,\n",
    "      range= None, \n",
    "      normed= False,\n",
    "      weights= None, \n",
    "      cumulative= False, \n",
    "      bottom= None, \n",
    "      histtype= 'bar', \n",
    "      align= 'mid', \n",
    "      orientation= 'vertical', \n",
    "      rwidth= None, \n",
    "      log= False, \n",
    "      color= None, \n",
    "      label= None, \n",
    "      stacked= False\n",
    "      )\n"
   ]
  },
  {
   "cell_type": "markdown",
   "metadata": {},
   "source": [
    "* x：指定要绘制直方图的数据；\n",
    "\n",
    "* bins：指定直方图条形的个数;\n",
    "\n",
    "* range：指定直方图数据的上下界，默认包含绘图数据的最大值和最小值；\n",
    "\n",
    "* normed：是否将直方图的频数转换成频率；\n",
    "\n",
    "* weights：该参数可为每一个数据点设置权重；\n",
    "\n",
    "* cumulative：是否需要计算累计频数或频率；\n",
    "\n",
    "* bottom：可以为直方图的每个条形添加基准线，默认为0；\n",
    "\n",
    "* histtype：指定直方图的类型，默认为bar，除此还有’barstacked’, ‘step’, ‘stepfilled’；\n",
    "\n",
    "* align：设置条形边界值的对其方式，默认为mid，除此还有’left’和’right’；\n",
    "\n",
    "* orientation：设置直方图的摆放方向，默认为垂直方向；\n",
    "\n",
    "* rwidth：设置直方图条形宽度的百分比；\n",
    "\n",
    "* log：是否需要对绘图数据进行log变换；\n",
    "\n",
    "* color：设置直方图的填充色；\n",
    "\n",
    "* label：设置直方图的标签，可通过legend展示其图例；\n",
    "\n",
    "* stacked：当有多个数据时，是否需要将直方图呈堆叠摆放，默认水平摆放；"
   ]
  },
  {
   "cell_type": "code",
   "execution_count": null,
   "metadata": {},
   "outputs": [],
   "source": []
  }
 ],
 "metadata": {
  "kernelspec": {
   "display_name": "Python 3",
   "language": "python",
   "name": "python3"
  },
  "language_info": {
   "codemirror_mode": {
    "name": "ipython",
    "version": 3
   },
   "file_extension": ".py",
   "mimetype": "text/x-python",
   "name": "python",
   "nbconvert_exporter": "python",
   "pygments_lexer": "ipython3",
   "version": "3.7.3"
  }
 },
 "nbformat": 4,
 "nbformat_minor": 2
}
