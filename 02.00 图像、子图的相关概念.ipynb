{
 "cells": [
  {
   "cell_type": "markdown",
   "metadata": {},
   "source": [
    "在之前的教程中，我们大多数都是用隐式的方法来绘制图像和坐标轴，对于一般的图来说，我们可以进行直接的作画，方便快捷。当然，Matplotlib 中也提供了一些对于多窗口显示、一个窗口多个子图、图中图功能设计。"
   ]
  },
  {
   "cell_type": "markdown",
   "metadata": {},
   "source": [
    "Matplotlib 中的“图像”指的是用户界面看到的整个窗口的内容。在“图像”中的具体图为“子图”。子图的位置由坐标网格确定，而“坐标轴”却不受此限制，可以放在图像的任何位置。具体使用方式及概念，可以在之后的案例中具体体会。"
   ]
  }
 ],
 "metadata": {
  "kernelspec": {
   "display_name": "Python 3",
   "language": "python",
   "name": "python3"
  },
  "language_info": {
   "codemirror_mode": {
    "name": "ipython",
    "version": 3
   },
   "file_extension": ".py",
   "mimetype": "text/x-python",
   "name": "python",
   "nbconvert_exporter": "python",
   "pygments_lexer": "ipython3",
   "version": "3.7.3"
  }
 },
 "nbformat": 4,
 "nbformat_minor": 2
}
