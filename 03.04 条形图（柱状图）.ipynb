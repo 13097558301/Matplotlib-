{
 "cells": [
  {
   "cell_type": "markdown",
   "metadata": {},
   "source": [
    "## 柱状图的绘制: plt.bar()"
   ]
  },
  {
   "cell_type": "code",
   "execution_count": 1,
   "metadata": {},
   "outputs": [],
   "source": [
    "import numpy as np\n",
    "import matplotlib.pylab as plt"
   ]
  },
  {
   "cell_type": "markdown",
   "metadata": {},
   "source": [
    "准备数据"
   ]
  },
  {
   "cell_type": "code",
   "execution_count": 9,
   "metadata": {},
   "outputs": [],
   "source": [
    "n = 12\n",
    "arr_x = np.arange(n)\n",
    "arr_y1 = (1 - arr_x / float(n)) * np.random.uniform(0.5, 1.0, n)\n",
    "arr_y2 = (1 - arr_x / float(n)) * np.random.uniform(0.5, 1.0, n)"
   ]
  },
  {
   "cell_type": "markdown",
   "metadata": {},
   "source": [
    "绘图"
   ]
  },
  {
   "cell_type": "code",
   "execution_count": 13,
   "metadata": {},
   "outputs": [
    {
     "data": {
      "image/png": "[encoded data removed]",
      "text/plain": [
       "<Figure size 432x288 with 1 Axes>"
      ]
     },
     "metadata": {
      "needs_background": "light"
     },
     "output_type": "display_data"
    }
   ],
   "source": [
    "# 柱状图的绘制，plt.bar()\n",
    "plt.bar(arr_x, +arr_y1, facecolor='b', edgecolor='w')\n",
    "plt.bar(arr_x, -arr_y2, facecolor='r', edgecolor='w')\n",
    "\n",
    "# 添加相关备注\n",
    "for x, y in zip(arr_x, arr_y1):\n",
    "    plt.text(x , y + 0.01, '%.2f' % y, ha='center', va='bottom')\n",
    "\n",
    "for x, y in zip(arr_x, arr_y2):\n",
    "    plt.text(x , -y - 0.01, '%.2f' % y, ha='center', va='top')\n",
    "    \n",
    "plt.xlim(-1, n)          # 定义 x 轴的范围\n",
    "plt.xticks(())           # 将 x 轴 隐藏\n",
    "\n",
    "plt.ylim(-1.25, 1.25)    # 定义 y 轴的范围\n",
    "plt.yticks()             # 将 y 轴 显示出来\n",
    "\n",
    "plt.show()"
   ]
  },
  {
   "cell_type": "code",
   "execution_count": null,
   "metadata": {},
   "outputs": [],
   "source": []
  }
 ],
 "metadata": {
  "kernelspec": {
   "display_name": "Python 3",
   "language": "python",
   "name": "python3"
  },
  "language_info": {
   "codemirror_mode": {
    "name": "ipython",
    "version": 3
   },
   "file_extension": ".py",
   "mimetype": "text/x-python",
   "name": "python",
   "nbconvert_exporter": "python",
   "pygments_lexer": "ipython3",
   "version": "3.7.3"
  }
 },
 "nbformat": 4,
 "nbformat_minor": 2
}
