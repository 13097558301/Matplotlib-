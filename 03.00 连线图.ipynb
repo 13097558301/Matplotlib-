{
 "cells": [
  {
   "cell_type": "markdown",
   "metadata": {},
   "source": [
    "plt.plot() 函数的主要功能就是根据所给定的数据将图画出来, 然后根据点在数组中的顺序，plt.plot() 会自动将点连起来。"
   ]
  },
  {
   "cell_type": "code",
   "execution_count": 29,
   "metadata": {},
   "outputs": [],
   "source": [
    "import matplotlib.pyplot as plt\n",
    "import numpy as np"
   ]
  },
  {
   "cell_type": "markdown",
   "metadata": {},
   "source": [
    "准备数据"
   ]
  },
  {
   "cell_type": "code",
   "execution_count": 30,
   "metadata": {},
   "outputs": [],
   "source": [
    "X = np.linspace(-np.pi, np.pi, 300)\n",
    "\n",
    "S = np.sin(X)"
   ]
  },
  {
   "cell_type": "markdown",
   "metadata": {},
   "source": [
    "绘图"
   ]
  },
  {
   "cell_type": "code",
   "execution_count": 31,
   "metadata": {},
   "outputs": [
    {
     "data": {
      "image/png": "[encoded data removed]",
      "text/plain": [
       "<Figure size 432x288 with 1 Axes>"
      ]
     },
     "metadata": {
      "needs_background": "light"
     },
     "output_type": "display_data"
    }
   ],
   "source": [
    "plt.plot(X,               #  x 轴坐标\n",
    "         S,               #  y 轴坐标\n",
    "         marker = ',',    #  点型 \n",
    "         color = 'b',     #  颜色\n",
    "         linestyle = '-', #  线型\n",
    "         linewidth = 1,   #  线段粗细\n",
    "         label = 'L_1'    #  线段名称，绘制图例时要用\n",
    "        )\n",
    "plt.show()"
   ]
  },
  {
   "cell_type": "markdown",
   "metadata": {},
   "source": [
    "### 连线图的相关属性参数："
   ]
  },
  {
   "cell_type": "markdown",
   "metadata": {},
   "source": [
    "* 点型（marker）的种类：\n",
    "    * 像素： ',' （默认）\n",
    "    * 圆形： 'o'\n",
    "    * 上三角： '^'\n",
    "    * 下三角： 'v'\n",
    "    * 左三角： '<'\n",
    "    * 右三角： '>'\n",
    "    * 方形： 's'\n",
    "    * 加号： '+'\n",
    "    * 叉形： 'x'\n",
    "    * 棱形： 'D'\n",
    "    * 细棱形： 'd'\n",
    "    * 三脚架朝下： '1'（像'丫'）\n",
    "    * 三脚架朝上： '2'\n",
    "    * 三脚架朝左： '3'\n",
    "    * 三脚架朝右： '4'\n",
    "    * 六角形： 'h'\n",
    "    * 旋转六角形： 'H'\n",
    "    * 五角形： 'p'\n",
    "    * 垂直线： '|'\n",
    "    * 水平线： '_'"
   ]
  },
  {
   "cell_type": "markdown",
   "metadata": {},
   "source": [
    "* 颜色（color 简写为 c）的种类：\n",
    "    * 蓝色： 'b' (blue) （默认）\n",
    "    * 绿色： 'g' (green)\n",
    "    * 红色： 'r' (red)\n",
    "    * 蓝绿色(墨绿色)： 'c' (cyan)\n",
    "    * 红紫色(洋红)： 'm' (magenta)\n",
    "    * 黄色： 'y' (yellow)\n",
    "    * 黑色： 'k' (black)\n",
    "    * 白色： 'w' (white)"
   ]
  },
  {
   "cell_type": "markdown",
   "metadata": {},
   "source": [
    "* 线型（linestyle 简写为 ls）的种类：\n",
    "    * 实线： '-'  （默认）\n",
    "    * 虚线： '--'\n",
    "    * 虚点线： '-.'\n",
    "    * 点线： ':'\n",
    "    * 点： '.'"
   ]
  },
  {
   "cell_type": "code",
   "execution_count": null,
   "metadata": {},
   "outputs": [],
   "source": []
  },
  {
   "cell_type": "code",
   "execution_count": null,
   "metadata": {},
   "outputs": [],
   "source": []
  }
 ],
 "metadata": {
  "kernelspec": {
   "display_name": "Python 3",
   "language": "python",
   "name": "python3"
  },
  "language_info": {
   "codemirror_mode": {
    "name": "ipython",
    "version": 3
   },
   "file_extension": ".py",
   "mimetype": "text/x-python",
   "name": "python",
   "nbconvert_exporter": "python",
   "pygments_lexer": "ipython3",
   "version": "3.7.3"
  }
 },
 "nbformat": 4,
 "nbformat_minor": 2
}
